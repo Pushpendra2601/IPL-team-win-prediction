{
 "cells": [
  {
   "cell_type": "code",
   "execution_count": 2,
   "id": "1c96c33a",
   "metadata": {},
   "outputs": [
    {
     "name": "stderr",
     "output_type": "stream",
     "text": [
      "2023-04-02 22:38:31.973 \n",
      "  \u001b[33m\u001b[1mWarning:\u001b[0m to view this Streamlit app on a browser, run it with the following\n",
      "  command:\n",
      "\n",
      "    streamlit run C:\\Users\\DELL\\anaconda3\\lib\\site-packages\\ipykernel_launcher.py [ARGUMENTS]\n"
     ]
    },
    {
     "data": {
      "text/plain": [
       "DeltaGenerator(_root_container=0, _provided_cursor=None, _parent=None, _block_type=None, _form_data=None)"
      ]
     },
     "execution_count": 2,
     "metadata": {},
     "output_type": "execute_result"
    }
   ],
   "source": [
    "import streamlit as st\n",
    "import pickle\n",
    "\n",
    "teams = ['Sunrisers Hyderabad',\n",
    "     'Mumbai Indians',\n",
    "     'Royal Challengers Bangalore',\n",
    "     'Chennai Super Kings',\n",
    "     'Kolkata Knight Riders',\n",
    "     'Rajasthan Royals',\n",
    "     'Delhi Capitals',\n",
    "     'Kings XI Punjab']\n",
    "\n",
    "cities = ['Hyderabad', 'Bangalore', 'Mumbai', 'Indore', 'Kolkata', 'Delhi',\n",
    "       'Chandigarh', 'Jaipur', 'Chennai', 'Cape Town', 'Port Elizabeth',\n",
    "       'Durban', 'Centurion', 'East London', 'Johannesburg', 'Kimberley',\n",
    "       'Bloemfontein', 'Ahmedabad', 'Cuttack', 'Nagpur', 'Dharamsala',\n",
    "       'Visakhapatnam', 'Pune', 'Raipur', 'Ranchi', 'Abu Dhabi',\n",
    "       'Sharjah', 'Mohali', 'Bengaluru']\n",
    "\n",
    "pipe=pickle.load(open('model.pkl','rb'))\n",
    "\n",
    "st.title(\"IPL WIN PREDICTOR\")\n",
    "\n",
    "col1,col2=st.beta_columns(2)\n",
    "\n",
    "with col1:\n",
    "    batting_team = st.selectbox(\"Select batting team\",teams)\n",
    "with col2:\n",
    "    bowling_team = st.selectbox(\"Select batting team\",teams)\n"
   ]
  },
  {
   "cell_type": "code",
   "execution_count": null,
   "id": "33bff2d7",
   "metadata": {},
   "outputs": [],
   "source": []
  }
 ],
 "metadata": {
  "kernelspec": {
   "display_name": "Python 3 (ipykernel)",
   "language": "python",
   "name": "python3"
  },
  "language_info": {
   "codemirror_mode": {
    "name": "ipython",
    "version": 3
   },
   "file_extension": ".py",
   "mimetype": "text/x-python",
   "name": "python",
   "nbconvert_exporter": "python",
   "pygments_lexer": "ipython3",
   "version": "3.9.7"
  }
 },
 "nbformat": 4,
 "nbformat_minor": 5
}
